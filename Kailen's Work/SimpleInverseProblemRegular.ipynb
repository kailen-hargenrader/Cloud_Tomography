{
 "cells": [
  {
   "cell_type": "markdown",
   "metadata": {},
   "source": [
    "## Inverse Problem\n",
    "\n",
    "This notebook is a simple example of how to solve an inverse problem using at3d. It assumes that we have run the 'SimulateRadiances' notebook and saved the result."
   ]
  },
  {
   "cell_type": "code",
   "execution_count": 1,
   "metadata": {},
   "outputs": [],
   "source": [
    "#imports\n",
    "import at3d\n",
    "import numpy as np\n",
    "import xarray as xr\n",
    "from collections import OrderedDict\n",
    "import pylab as py\n",
    "np.random.seed(1)\n"
   ]
  },
  {
   "cell_type": "markdown",
   "metadata": {},
   "source": [
    "### Load Measurements\n",
    "\n",
    "Here we load the synthetic measurements and also all of the inputs to the solver. We will use several of these inputs to perform 'inverse crimes' whereby we fix some aspects of the problem perfectly as in the forward simulation. When using real world measurements no such short cuts are necessary.\n",
    "\n",
    "* First, we have to look at the measurements and select a region of interest and define our `rte_grid`. \n",
    "* Then we have to model the sensor sub-pixel geometry.\n",
    "* We need to analyze whether the grid and sensor geometry are consistent. The SpaceCarver is useful for this. If not then we may need to change resolution of `rte_grid` to match the resolution of the measurements etc.\n",
    "* We need to decide how to represent the surface, which is currently fixed.\n",
    "* We need to decide how to represent the atmosphere.\n",
    "    * What scattering species are we modelling? What are their optical models? \n",
    "    * Which quantities will be unknowns and which are fixed?\n",
    "    * What will be the abstract state that we will reconstruct? For this we need to set the mapping between the abstract state and the RTE solver.\n",
    "* Now that we are organized we need to initialize our state vector of unknowns. The method for this initialization may itself be quite involved as starting nearer the answer is better. This typically goes hand in hand with the selection of any fixed variables.\n",
    "* Lastly we perform the optimization.\n",
    "\n",
    "In this tutorial we will reconstruct only the `extinction` and we will use forward quantities from the ground truth synthetic measurements for simplicity."
   ]
  },
  {
   "cell_type": "code",
   "execution_count": 2,
   "metadata": {},
   "outputs": [],
   "source": [
    "sensors, solvers, rte_grid = at3d.util.load_forward_model('./SimulateRadiancesSmallRico.nc')"
   ]
  },
  {
   "cell_type": "code",
   "execution_count": 3,
   "metadata": {},
   "outputs": [],
   "source": [
    "# Perform some cloud masking using a single fixed threshold based on the observation that \n",
    "# everywhere else will be very dark.\n",
    "sensor_list = []\n",
    "for sensor in sensors['MSPI']['sensor_list']:\n",
    "    copied = sensor.copy(deep=True)\n",
    "    weights = np.zeros(sensor.sizes['nrays'])\n",
    "    ray_mask =np.zeros(sensor.sizes['nrays'], dtype=int)\n",
    "    \n",
    "    ray_mask_pixel = np.zeros(sensor.npixels.size, dtype=int)\n",
    "    \n",
    "    # I have not optimized this threshold whatsoever.\n",
    "    # Feel free to experiment with the cloud mask threshold. \n",
    "    # You can compare the observations\n",
    "    # with a visualization of the initial_state to evaluate the mask.\n",
    "    # or look at at3d.space_carve.SpaceCarver.project\n",
    "    ray_mask_pixel[np.where(sensor.I.data > 0*2e-3)] = 1\n",
    "    copied['weights'] = ('nrays',sensor.I.data)\n",
    "    copied['cloud_mask'] = ('nrays', ray_mask_pixel[sensor.pixel_index.data])\n",
    "    sensor_list.append(copied)\n",
    "\n",
    "space_carver = at3d.space_carve.SpaceCarver(rte_grid, bcflag=3)\n",
    "carved_volume = space_carver.carve(sensor_list, agreement=(0.0, 1.0), linear_mode=False)\n",
    "\n",
    "# remove cloud mask values at outer boundaries to prevent interaction with open boundary conditions.\n",
    "carved_volume.mask[0] = carved_volume.mask[-1] =carved_volume.mask[:,0] =carved_volume.mask[:,-1] = 0.0\n",
    "        "
   ]
  },
  {
   "cell_type": "code",
   "execution_count": 4,
   "metadata": {},
   "outputs": [],
   "source": [
    "\n",
    "# make forward_sensors which will hold synthetic measurements from the evaluation of the forward model.\n",
    "forward_sensors = sensors.make_forward_sensors()\n",
    "\n",
    "# add an uncertainty model to the observations.\n",
    "uncertainty = at3d.uncertainties.NullUncertainty('L2',1e8)#at3d.uncertainties.TandemStereoCamera('L2', camera_to_camera_calibration_uncertainty=0.0,\n",
    "              #                                      absolute_calibration_uncertainty=0.0)#at3d.uncertainties.RadiometricUncertainty('L2',1e-5, 1e-3)\n",
    "sensors.add_uncertainty_model('MSPI', uncertainty)\n",
    "\n",
    "# prepare all of the static inputs to the solver just copy pasted from forward model\n",
    "surfaces = OrderedDict()\n",
    "numerical_parameters = OrderedDict()\n",
    "sources = OrderedDict()\n",
    "num_stokes = OrderedDict()\n",
    "background_optical_scatterers = OrderedDict()\n",
    "for key in forward_sensors.get_unique_solvers():\n",
    "    surfaces[key] = solvers[key].surface\n",
    "    numerical_params = solvers[key].numerical_params\n",
    "    #numerical_params['num_mu_bins'] = 2\n",
    "    #numerical_params['num_phi_bins'] = 4\n",
    "    numerical_parameters[key] = numerical_params\n",
    "    sources[key] = solvers[key].source\n",
    "    num_stokes[key] = solvers[key]._nstokes\n",
    "    background_optical_scatterers[key] = {'rayleigh': solvers[key].medium['rayleigh']}\n"
   ]
  },
  {
   "cell_type": "code",
   "execution_count": 5,
   "metadata": {},
   "outputs": [],
   "source": [
    "# set the generator for the unknown scatterer using ground truth optical properties\n",
    "# and unknown extinction.\n",
    "# GridToOpticalProperties holds the fixed optical properties and forms a full set of optical properties\n",
    "# when it is called with extinction as the argument.\n",
    "\n",
    "optical_properties = solvers[0.66].medium['cloud'].copy(deep=True)\n",
    "optical_properties = optical_properties.drop_vars('extinction')\n",
    "\n",
    "%matplotlib inline\n",
    "def plot(optimizer):\n",
    "    py.figure()\n",
    "    fig, axs = py.subplots(1, 2)\n",
    "    axs[0].plot(solvers_reconstruct[0.66].medium['cloud'].extinction.data.ravel(), \n",
    "            solvers[0.66].medium['cloud'].extinction.data.ravel(),'x')\n",
    "    axs[0].plot([0,130],[0,130])\n",
    "    axs[1].plot(solvers_reconstruct[0.66].medium['cloud'].reff.data.ravel(), \n",
    "            solvers[0.66].medium['cloud'].reff.data.ravel(),'x')\n",
    "    axs[1].plot([0,30],[0,30])\n",
    "    axs[1].axvline(x = np.nanmean(solvers[0.66].medium['cloud'].reff.data.ravel()), color = 'r', linestyle='--')\n",
    "    py.show()\n",
    "    return {'None': None}\n",
    "callback = at3d.callback.CallbackFn(plot)\n"
   ]
  },
  {
   "cell_type": "code",
   "execution_count": 6,
   "metadata": {},
   "outputs": [
    {
     "name": "stdout",
     "output_type": "stream",
     "text": [
      "  ! Iter Log(Sol)  SplitCrit  Npoints  Nsh(avg)   [Radiance 0.660 micron]\n",
      "     1  -0.727  0.373E+00    31968    39.47  0.154   [Radiance 0.660 micron]\n",
      "     2  -1.332  0.411E+00    31968    39.47  0.154   [Radiance 0.660 micron]\n",
      "     3  -1.655  0.422E+00    31968    39.47  0.154   [Radiance 0.660 micron]\n",
      "     4  -1.889  0.266E+00    32087    40.27  0.157   [Radiance 0.660 micron]\n",
      "     5  -2.196  0.154E+00    32733    44.26  0.173   [Radiance 0.660 micron]\n",
      "     6  -2.246  0.902E-01    34625    54.60  0.213   [Radiance 0.660 micron]\n",
      "     7  -2.372  0.660E-01    37164    67.06  0.262   [Radiance 0.660 micron]\n",
      "     8  -2.429  0.506E-01    40330    80.45  0.314   [Radiance 0.660 micron]\n",
      "     9  -2.543  0.423E-01    43701    92.89  0.363   [Radiance 0.660 micron]\n",
      "    10  -2.599  0.350E-01    48322   106.87  0.417   [Radiance 0.660 micron]\n",
      "    11  -2.698  0.303E-01    52651   117.77  0.460   [Radiance 0.660 micron]\n",
      "    12  -2.994  0.300E-01    53098   118.78  0.464   [Radiance 0.660 micron]\n",
      "    13  -3.241  0.300E-01    53133   118.87  0.464   [Radiance 0.660 micron]\n",
      "    14  -3.405  0.300E-01    53133   118.87  0.464   [Radiance 0.660 micron]\n",
      "    15  -3.683  0.300E-01    53133   118.87  0.464   [Radiance 0.660 micron]\n",
      "    16  -3.810  0.300E-01    53133   118.87  0.464   [Radiance 0.660 micron]\n",
      "    17  -4.475  0.300E-01    53133   118.87  0.464   [Radiance 0.660 micron]\n",
      " ! Iterations:     17     Final Criterion:  0.000033   [Radiance 0.660 micron]\n"
     ]
    },
    {
     "data": {
      "text/plain": [
       "<Figure size 640x480 with 0 Axes>"
      ]
     },
     "metadata": {},
     "output_type": "display_data"
    },
    {
     "data": {
      "image/png": "[encoded data removed]",
      "text/plain": [
       "<Figure size 640x480 with 2 Axes>"
      ]
     },
     "metadata": {},
     "output_type": "display_data"
    },
    {
     "name": "stdout",
     "output_type": "stream",
     "text": [
      "1.9079344934789666e-09\n",
      "  ! Iter Log(Sol)  SplitCrit  Npoints  Nsh(avg)   [Radiance 0.660 micron]\n",
      "     1  -0.727  0.373E+00    31968    39.47  0.154   [Radiance 0.660 micron]\n",
      "     2  -1.332  0.411E+00    31968    39.47  0.154   [Radiance 0.660 micron]\n",
      "     3  -1.655  0.422E+00    31968    39.47  0.154   [Radiance 0.660 micron]\n",
      "     4  -1.889  0.266E+00    32087    40.27  0.157   [Radiance 0.660 micron]\n",
      "     5  -2.196  0.154E+00    32733    44.26  0.173   [Radiance 0.660 micron]\n",
      "     6  -2.246  0.902E-01    34625    54.60  0.213   [Radiance 0.660 micron]\n",
      "     7  -2.372  0.660E-01    37164    67.06  0.262   [Radiance 0.660 micron]\n",
      "     8  -2.429  0.506E-01    40330    80.45  0.314   [Radiance 0.660 micron]\n"
     ]
    },
    {
     "ename": "KeyboardInterrupt",
     "evalue": "",
     "output_type": "error",
     "traceback": [
      "\u001b[0;31m---------------------------------------------------------------------------\u001b[0m",
      "\u001b[0;31mKeyboardInterrupt\u001b[0m                         Traceback (most recent call last)",
      "Cell \u001b[0;32mIn[6], line 38\u001b[0m\n\u001b[1;32m     36\u001b[0m losses \u001b[38;5;241m=\u001b[39m []\n\u001b[1;32m     37\u001b[0m \u001b[38;5;28;01mfor\u001b[39;00m i \u001b[38;5;129;01min\u001b[39;00m \u001b[38;5;28mrange\u001b[39m(\u001b[38;5;241m10\u001b[39m):\n\u001b[0;32m---> 38\u001b[0m     losses\u001b[38;5;241m.\u001b[39mappend(\u001b[43mget_loss\u001b[49m\u001b[43m(\u001b[49m\u001b[43mi\u001b[49m\u001b[43m)\u001b[49m)\n\u001b[1;32m     39\u001b[0m     plot(\u001b[38;5;28;01mNone\u001b[39;00m)\n\u001b[1;32m     40\u001b[0m     \u001b[38;5;28mprint\u001b[39m(losses[i])\n",
      "Cell \u001b[0;32mIn[6], line 35\u001b[0m, in \u001b[0;36mget_loss\u001b[0;34m(reff_diff)\u001b[0m\n\u001b[1;32m     27\u001b[0m objective_function \u001b[38;5;241m=\u001b[39m at3d\u001b[38;5;241m.\u001b[39moptimize\u001b[38;5;241m.\u001b[39mObjectiveFunction\u001b[38;5;241m.\u001b[39mLevisApproxUncorrelatedL2(\n\u001b[1;32m     28\u001b[0m     sensors, solvers_reconstruct, forward_sensors, unknown_scatterers, state_gen,\n\u001b[1;32m     29\u001b[0m     state_gen\u001b[38;5;241m.\u001b[39mproject_gradient_to_state,\n\u001b[0;32m   (...)\u001b[0m\n\u001b[1;32m     32\u001b[0m     uncertainty_kwargs\u001b[38;5;241m=\u001b[39m{\u001b[38;5;124m'\u001b[39m\u001b[38;5;124madd_noise\u001b[39m\u001b[38;5;124m'\u001b[39m: \u001b[38;5;28;01mFalse\u001b[39;00m},\n\u001b[1;32m     33\u001b[0m     min_bounds\u001b[38;5;241m=\u001b[39mmin_bounds, max_bounds\u001b[38;5;241m=\u001b[39mmax_bounds)\n\u001b[1;32m     34\u001b[0m \u001b[38;5;66;03m# solvers_reconstruct[0.66].medium['cloud'].reff.data = solvers[0.66].medium['cloud'].reff.data + reff_diff\u001b[39;00m\n\u001b[0;32m---> 35\u001b[0m \u001b[38;5;28;01mreturn\u001b[39;00m \u001b[43mobjective_function\u001b[49m\u001b[43m(\u001b[49m\u001b[43mx0\u001b[49m\u001b[43m)\u001b[49m[\u001b[38;5;241m0\u001b[39m]\n",
      "File \u001b[0;32m~/miniconda3/envs/at3d/lib/python3.10/site-packages/at3d/optimize.py:38\u001b[0m, in \u001b[0;36mObjectiveFunction.__call__\u001b[0;34m(self, state)\u001b[0m\n\u001b[1;32m     36\u001b[0m \u001b[38;5;28;01mdef\u001b[39;00m \u001b[38;5;21m__call__\u001b[39m(\u001b[38;5;28mself\u001b[39m, state):\n\u001b[1;32m     37\u001b[0m     time1 \u001b[38;5;241m=\u001b[39m time\u001b[38;5;241m.\u001b[39mprocess_time()\n\u001b[0;32m---> 38\u001b[0m     loss, gradient \u001b[38;5;241m=\u001b[39m \u001b[38;5;28;43mself\u001b[39;49m\u001b[38;5;241;43m.\u001b[39;49m\u001b[43mloss_fn\u001b[49m\u001b[43m(\u001b[49m\u001b[43mstate\u001b[49m\u001b[43m,\u001b[49m\u001b[43m \u001b[49m\u001b[38;5;28;43mself\u001b[39;49m\u001b[38;5;241;43m.\u001b[39;49m\u001b[43mmeasurements\u001b[49m\u001b[43m)\u001b[49m\n\u001b[1;32m     39\u001b[0m     \u001b[38;5;28mself\u001b[39m\u001b[38;5;241m.\u001b[39m_total_obj_fn_time \u001b[38;5;241m+\u001b[39m\u001b[38;5;241m=\u001b[39m time\u001b[38;5;241m.\u001b[39mprocess_time() \u001b[38;5;241m-\u001b[39m time1\n\u001b[1;32m     40\u001b[0m     \u001b[38;5;28mself\u001b[39m\u001b[38;5;241m.\u001b[39m_loss \u001b[38;5;241m=\u001b[39m loss\n",
      "File \u001b[0;32m~/miniconda3/envs/at3d/lib/python3.10/site-packages/at3d/optimize.py:122\u001b[0m, in \u001b[0;36mObjectiveFunction.LevisApproxUncorrelatedL2.<locals>.loss_function\u001b[0;34m(state, measurements)\u001b[0m\n\u001b[1;32m    119\u001b[0m \u001b[38;5;28;01mdef\u001b[39;00m \u001b[38;5;21mloss_function\u001b[39m(state, measurements):\n\u001b[1;32m    121\u001b[0m     set_state_fn(state)\n\u001b[0;32m--> 122\u001b[0m     loss, gradient, _ \u001b[38;5;241m=\u001b[39m \u001b[43mgradient_fun\u001b[49m\u001b[43m(\u001b[49m\u001b[43m)\u001b[49m\n\u001b[1;32m    123\u001b[0m     \u001b[38;5;66;03m# loss, gradient = at3d.gradient.levis_approx_uncorrelated_l2(measurements,\u001b[39;00m\n\u001b[1;32m    124\u001b[0m     \u001b[38;5;66;03m#                                                              solvers,\u001b[39;00m\n\u001b[1;32m    125\u001b[0m     \u001b[38;5;66;03m#                                                              forward_sensors,\u001b[39;00m\n\u001b[0;32m   (...)\u001b[0m\n\u001b[1;32m    131\u001b[0m     \u001b[38;5;66;03m#                                                              init_solution=init_solution,\u001b[39;00m\n\u001b[1;32m    132\u001b[0m     \u001b[38;5;66;03m#                                                              exact_single_scatter=exact_single_scatter)\u001b[39;00m\n\u001b[1;32m    133\u001b[0m     state_gradient \u001b[38;5;241m=\u001b[39m project_gradient_to_state(state, gradient)\n",
      "File \u001b[0;32m~/miniconda3/envs/at3d/lib/python3.10/site-packages/at3d/gradient.py:427\u001b[0m, in \u001b[0;36mLevisApproxGradientUncorrelated.__call__\u001b[0;34m(self)\u001b[0m\n\u001b[1;32m    425\u001b[0m \u001b[38;5;28;01mdef\u001b[39;00m \u001b[38;5;21m__call__\u001b[39m(\u001b[38;5;28mself\u001b[39m):\n\u001b[0;32m--> 427\u001b[0m     loss, gradient, other_outputs \u001b[38;5;241m=\u001b[39m \u001b[38;5;28;43mself\u001b[39;49m\u001b[38;5;241;43m.\u001b[39;49m\u001b[43m_prep_gradient\u001b[49m\u001b[43m(\u001b[49m\u001b[43m)\u001b[49m\n\u001b[1;32m    428\u001b[0m     \u001b[38;5;66;03m#uncorrelated among the output of all (possibly parallel) workers.\u001b[39;00m\n\u001b[1;32m    429\u001b[0m     \u001b[38;5;66;03m#if wanting to impose error correlations between wavelengths etc\u001b[39;00m\n\u001b[1;32m    430\u001b[0m     \u001b[38;5;66;03m#then make a new class with a modified __call__ method.\u001b[39;00m\n\u001b[1;32m    431\u001b[0m     loss \u001b[38;5;241m=\u001b[39m np\u001b[38;5;241m.\u001b[39msum(loss) \u001b[38;5;241m/\u001b[39m \u001b[38;5;28mself\u001b[39m\u001b[38;5;241m.\u001b[39mforward_sensors\u001b[38;5;241m.\u001b[39mnmeasurements\n",
      "File \u001b[0;32m~/miniconda3/envs/at3d/lib/python3.10/site-packages/at3d/gradient.py:135\u001b[0m, in \u001b[0;36mLevisApproxGradient._prep_gradient\u001b[0;34m(self)\u001b[0m\n\u001b[1;32m    130\u001b[0m \u001b[38;5;28;01mdef\u001b[39;00m \u001b[38;5;21m_prep_gradient\u001b[39m(\u001b[38;5;28mself\u001b[39m):\n\u001b[1;32m    131\u001b[0m \u001b[38;5;250m    \u001b[39m\u001b[38;5;124;03m\"\"\"\u001b[39;00m\n\u001b[1;32m    132\u001b[0m \u001b[38;5;124;03m    This does the heavy lifting of preparing the gradient calculation.\u001b[39;00m\n\u001b[1;32m    133\u001b[0m \u001b[38;5;124;03m    This code should not really need to be modified.\u001b[39;00m\n\u001b[1;32m    134\u001b[0m \u001b[38;5;124;03m    \"\"\"\u001b[39;00m\n\u001b[0;32m--> 135\u001b[0m     \u001b[38;5;28;43mself\u001b[39;49m\u001b[38;5;241;43m.\u001b[39;49m\u001b[43msolvers\u001b[49m\u001b[38;5;241;43m.\u001b[39;49m\u001b[43msolve\u001b[49m\u001b[43m(\u001b[49m\u001b[38;5;241;43m*\u001b[39;49m\u001b[38;5;241;43m*\u001b[39;49m\u001b[38;5;28;43mself\u001b[39;49m\u001b[38;5;241;43m.\u001b[39;49m\u001b[43mparallel_solve_kwargs\u001b[49m\u001b[43m)\u001b[49m\n\u001b[1;32m    137\u001b[0m     \u001b[38;5;66;03m#adds the _dext/_dleg/_dalb/_diphase etc to the solvers.\u001b[39;00m\n\u001b[1;32m    138\u001b[0m     \u001b[38;5;28mself\u001b[39m\u001b[38;5;241m.\u001b[39msolvers\u001b[38;5;241m.\u001b[39mcalculate_microphysical_partial_derivatives(\u001b[38;5;28mself\u001b[39m\u001b[38;5;241m.\u001b[39munknown_scatterers)\n",
      "File \u001b[0;32m~/miniconda3/envs/at3d/lib/python3.10/site-packages/at3d/containers.py:742\u001b[0m, in \u001b[0;36mSolversDict.solve\u001b[0;34m(self, n_jobs, mpi_comm, overwrite_solver, maxiter, verbose, init_solution, setup_grid)\u001b[0m\n\u001b[1;32m    739\u001b[0m         solver\u001b[38;5;241m.\u001b[39msolve(maxiter\u001b[38;5;241m=\u001b[39mmaxiter, init_solution\u001b[38;5;241m=\u001b[39minit_solution,\n\u001b[1;32m    740\u001b[0m                      verbose\u001b[38;5;241m=\u001b[39mverbose, setup_grid\u001b[38;5;241m=\u001b[39msetup_grid)\n\u001b[1;32m    741\u001b[0m \u001b[38;5;28;01melse\u001b[39;00m:\n\u001b[0;32m--> 742\u001b[0m     \u001b[43mParallel\u001b[49m\u001b[43m(\u001b[49m\u001b[43mn_jobs\u001b[49m\u001b[38;5;241;43m=\u001b[39;49m\u001b[43mn_jobs\u001b[49m\u001b[43m,\u001b[49m\u001b[43m \u001b[49m\u001b[43mbackend\u001b[49m\u001b[38;5;241;43m=\u001b[39;49m\u001b[38;5;124;43m\"\u001b[39;49m\u001b[38;5;124;43mthreading\u001b[39;49m\u001b[38;5;124;43m\"\u001b[39;49m\u001b[43m)\u001b[49m\u001b[43m(\u001b[49m\n\u001b[1;32m    743\u001b[0m \u001b[43m        \u001b[49m\u001b[43mdelayed\u001b[49m\u001b[43m(\u001b[49m\u001b[43msolver\u001b[49m\u001b[38;5;241;43m.\u001b[39;49m\u001b[43msolve\u001b[49m\u001b[43m)\u001b[49m\u001b[43m(\u001b[49m\u001b[43mmaxiter\u001b[49m\u001b[38;5;241;43m=\u001b[39;49m\u001b[43mmaxiter\u001b[49m\u001b[43m,\u001b[49m\u001b[43m \u001b[49m\u001b[43minit_solution\u001b[49m\u001b[38;5;241;43m=\u001b[39;49m\u001b[43minit_solution\u001b[49m\u001b[43m,\u001b[49m\n\u001b[1;32m    744\u001b[0m \u001b[43m                              \u001b[49m\u001b[43mverbose\u001b[49m\u001b[38;5;241;43m=\u001b[39;49m\u001b[43mverbose\u001b[49m\u001b[43m,\u001b[49m\u001b[43m \u001b[49m\u001b[43msetup_grid\u001b[49m\u001b[38;5;241;43m=\u001b[39;49m\u001b[43msetup_grid\u001b[49m\u001b[43m)\u001b[49m\n\u001b[1;32m    745\u001b[0m \u001b[43m        \u001b[49m\u001b[38;5;28;43;01mfor\u001b[39;49;00m\u001b[43m \u001b[49m\u001b[43msolver\u001b[49m\u001b[43m \u001b[49m\u001b[38;5;129;43;01min\u001b[39;49;00m\u001b[43m \u001b[49m\u001b[43mto_solve\u001b[49m\u001b[43m)\u001b[49m\n",
      "File \u001b[0;32m~/miniconda3/envs/at3d/lib/python3.10/site-packages/joblib/parallel.py:2007\u001b[0m, in \u001b[0;36mParallel.__call__\u001b[0;34m(self, iterable)\u001b[0m\n\u001b[1;32m   2001\u001b[0m \u001b[38;5;66;03m# The first item from the output is blank, but it makes the interpreter\u001b[39;00m\n\u001b[1;32m   2002\u001b[0m \u001b[38;5;66;03m# progress until it enters the Try/Except block of the generator and\u001b[39;00m\n\u001b[1;32m   2003\u001b[0m \u001b[38;5;66;03m# reaches the first `yield` statement. This starts the asynchronous\u001b[39;00m\n\u001b[1;32m   2004\u001b[0m \u001b[38;5;66;03m# dispatch of the tasks to the workers.\u001b[39;00m\n\u001b[1;32m   2005\u001b[0m \u001b[38;5;28mnext\u001b[39m(output)\n\u001b[0;32m-> 2007\u001b[0m \u001b[38;5;28;01mreturn\u001b[39;00m output \u001b[38;5;28;01mif\u001b[39;00m \u001b[38;5;28mself\u001b[39m\u001b[38;5;241m.\u001b[39mreturn_generator \u001b[38;5;28;01melse\u001b[39;00m \u001b[38;5;28;43mlist\u001b[39;49m\u001b[43m(\u001b[49m\u001b[43moutput\u001b[49m\u001b[43m)\u001b[49m\n",
      "File \u001b[0;32m~/miniconda3/envs/at3d/lib/python3.10/site-packages/joblib/parallel.py:1650\u001b[0m, in \u001b[0;36mParallel._get_outputs\u001b[0;34m(self, iterator, pre_dispatch)\u001b[0m\n\u001b[1;32m   1647\u001b[0m     \u001b[38;5;28;01myield\u001b[39;00m\n\u001b[1;32m   1649\u001b[0m     \u001b[38;5;28;01mwith\u001b[39;00m \u001b[38;5;28mself\u001b[39m\u001b[38;5;241m.\u001b[39m_backend\u001b[38;5;241m.\u001b[39mretrieval_context():\n\u001b[0;32m-> 1650\u001b[0m         \u001b[38;5;28;01myield from\u001b[39;00m \u001b[38;5;28mself\u001b[39m\u001b[38;5;241m.\u001b[39m_retrieve()\n\u001b[1;32m   1652\u001b[0m \u001b[38;5;28;01mexcept\u001b[39;00m \u001b[38;5;167;01mGeneratorExit\u001b[39;00m:\n\u001b[1;32m   1653\u001b[0m     \u001b[38;5;66;03m# The generator has been garbage collected before being fully\u001b[39;00m\n\u001b[1;32m   1654\u001b[0m     \u001b[38;5;66;03m# consumed. This aborts the remaining tasks if possible and warn\u001b[39;00m\n\u001b[1;32m   1655\u001b[0m     \u001b[38;5;66;03m# the user if necessary.\u001b[39;00m\n\u001b[1;32m   1656\u001b[0m     \u001b[38;5;28mself\u001b[39m\u001b[38;5;241m.\u001b[39m_exception \u001b[38;5;241m=\u001b[39m \u001b[38;5;28;01mTrue\u001b[39;00m\n",
      "File \u001b[0;32m~/miniconda3/envs/at3d/lib/python3.10/site-packages/joblib/parallel.py:1762\u001b[0m, in \u001b[0;36mParallel._retrieve\u001b[0;34m(self)\u001b[0m\n\u001b[1;32m   1757\u001b[0m \u001b[38;5;66;03m# If the next job is not ready for retrieval yet, we just wait for\u001b[39;00m\n\u001b[1;32m   1758\u001b[0m \u001b[38;5;66;03m# async callbacks to progress.\u001b[39;00m\n\u001b[1;32m   1759\u001b[0m \u001b[38;5;28;01mif\u001b[39;00m ((\u001b[38;5;28mlen\u001b[39m(\u001b[38;5;28mself\u001b[39m\u001b[38;5;241m.\u001b[39m_jobs) \u001b[38;5;241m==\u001b[39m \u001b[38;5;241m0\u001b[39m) \u001b[38;5;129;01mor\u001b[39;00m\n\u001b[1;32m   1760\u001b[0m     (\u001b[38;5;28mself\u001b[39m\u001b[38;5;241m.\u001b[39m_jobs[\u001b[38;5;241m0\u001b[39m]\u001b[38;5;241m.\u001b[39mget_status(\n\u001b[1;32m   1761\u001b[0m         timeout\u001b[38;5;241m=\u001b[39m\u001b[38;5;28mself\u001b[39m\u001b[38;5;241m.\u001b[39mtimeout) \u001b[38;5;241m==\u001b[39m TASK_PENDING)):\n\u001b[0;32m-> 1762\u001b[0m     \u001b[43mtime\u001b[49m\u001b[38;5;241;43m.\u001b[39;49m\u001b[43msleep\u001b[49m\u001b[43m(\u001b[49m\u001b[38;5;241;43m0.01\u001b[39;49m\u001b[43m)\u001b[49m\n\u001b[1;32m   1763\u001b[0m     \u001b[38;5;28;01mcontinue\u001b[39;00m\n\u001b[1;32m   1765\u001b[0m \u001b[38;5;66;03m# We need to be careful: the job list can be filling up as\u001b[39;00m\n\u001b[1;32m   1766\u001b[0m \u001b[38;5;66;03m# we empty it and Python list are not thread-safe by\u001b[39;00m\n\u001b[1;32m   1767\u001b[0m \u001b[38;5;66;03m# default hence the use of the lock\u001b[39;00m\n",
      "\u001b[0;31mKeyboardInterrupt\u001b[0m: "
     ]
    },
    {
     "name": "stdout",
     "output_type": "stream",
     "text": [
      "     9  -2.543  0.423E-01    43701    92.89  0.363   [Radiance 0.660 micron]\n",
      "    10  -2.599  0.350E-01    48322   106.87  0.417   [Radiance 0.660 micron]\n",
      "    11  -2.698  0.303E-01    52651   117.77  0.460   [Radiance 0.660 micron]\n",
      "    12  -2.994  0.300E-01    53098   118.78  0.464   [Radiance 0.660 micron]\n",
      "    13  -3.241  0.300E-01    53133   118.87  0.464   [Radiance 0.660 micron]\n",
      "    14  -3.405  0.300E-01    53133   118.87  0.464   [Radiance 0.660 micron]\n",
      "    15  -3.683  0.300E-01    53133   118.87  0.464   [Radiance 0.660 micron]\n",
      "    16  -3.810  0.300E-01    53133   118.87  0.464   [Radiance 0.660 micron]\n",
      "    17  -4.475  0.300E-01    53133   118.87  0.464   [Radiance 0.660 micron]\n",
      " ! Iterations:     17     Final Criterion:  0.000033   [Radiance 0.660 micron]\n"
     ]
    }
   ],
   "source": [
    "solvers_reconstruct = at3d.containers.SolversDict()\n",
    "def get_loss(reff_diff):\n",
    "    # We are using the ground_truth rte_grid.\n",
    "    grid_to_optical_properties = at3d.medium.GridToOpticalProperties(\n",
    "        rte_grid,'cloud', 0.66,optical_properties\n",
    "    )\n",
    "\n",
    "    # UnknownScatterers is a container for all of the unknown variables.\n",
    "    # Each unknown_scatterer also records the transforms from the abstract state vector\n",
    "    # to the gridded data in physical coordinates.\n",
    "    unknown_scatterers = at3d.containers.UnknownScatterers(\n",
    "        at3d.medium.UnknownScatterer(grid_to_optical_properties,\n",
    "        extinction=(None, at3d.transforms.StateToGridMask(mask=carved_volume.mask.data)))\n",
    "    )\n",
    "    # now we form state_gen which updates the solvers with an input_state.\n",
    "\n",
    "    state_gen = at3d.medium.StateGenerator(solvers_reconstruct,\n",
    "                                            unknown_scatterers, surfaces,\n",
    "                                            numerical_parameters, sources, background_optical_scatterers,\n",
    "                                            num_stokes)\n",
    "    # get bounds automatically.\n",
    "    min_bounds, max_bounds = state_gen.transform_bounds()\n",
    "    # transform initial physical state to abstract state. \n",
    "    initial_gridded_extinction = solvers[0.66].medium['cloud'].extinction.data\n",
    "    initial_1d_extinction = state_gen._unknown_scatterers['cloud'].variables['extinction'].state_to_grid.inverse_transform(initial_gridded_extinction)\n",
    "    x0 = state_gen._unknown_scatterers['cloud'].variables['extinction'].coordinate_transform.inverse_transform(initial_1d_extinction)\n",
    "    objective_function = at3d.optimize.ObjectiveFunction.LevisApproxUncorrelatedL2(\n",
    "        sensors, solvers_reconstruct, forward_sensors, unknown_scatterers, state_gen,\n",
    "        state_gen.project_gradient_to_state,\n",
    "            parallel_solve_kwargs={'n_jobs': 4, 'verbose': True},\n",
    "        gradient_kwargs={'cost_function': 'L2', 'exact_single_scatter':True},\n",
    "        uncertainty_kwargs={'add_noise': False},\n",
    "        min_bounds=min_bounds, max_bounds=max_bounds)\n",
    "    # solvers_reconstruct[0.66].medium['cloud'].reff.data = solvers[0.66].medium['cloud'].reff.data + reff_diff\n",
    "    return objective_function(x0)[0]\n",
    "losses = []\n",
    "for i in range(10):\n",
    "    losses.append(get_loss(i))\n",
    "    plot(None)\n",
    "    print(losses[i])\n",
    "    solvers_reconstruct[0.66].medium['cloud'].extinction.data = solvers_reconstruct[0.66].medium['cloud'].extinction.data + 1\n",
    "py.plot(range(10),losses)\n"
   ]
  }
 ],
 "metadata": {
  "kernelspec": {
   "display_name": "Python 3 (ipykernel)",
   "language": "python",
   "name": "python3"
  },
  "language_info": {
   "codemirror_mode": {
    "name": "ipython",
    "version": 3
   },
   "file_extension": ".py",
   "mimetype": "text/x-python",
   "name": "python",
   "nbconvert_exporter": "python",
   "pygments_lexer": "ipython3",
   "version": "3.10.4"
  }
 },
 "nbformat": 4,
 "nbformat_minor": 4
}
