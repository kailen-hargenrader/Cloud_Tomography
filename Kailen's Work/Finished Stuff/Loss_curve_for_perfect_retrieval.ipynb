{
 "cells": [
  {
   "cell_type": "markdown",
   "metadata": {},
   "source": [
    "## Inverse Problem\n",
    "\n",
    "This notebook is a simple example of how to solve an inverse problem using at3d. It assumes that we have run the 'SimulateRadiances' notebook and saved the result."
   ]
  },
  {
   "cell_type": "code",
   "execution_count": 1,
   "metadata": {},
   "outputs": [],
   "source": [
    "#imports\n",
    "import at3d\n",
    "import numpy as np\n",
    "import xarray as xr\n",
    "from collections import OrderedDict\n",
    "import pylab as py\n",
    "import warnings\n",
    "np.random.seed(1)\n"
   ]
  },
  {
   "cell_type": "markdown",
   "metadata": {},
   "source": [
    "### Load Measurements\n",
    "\n",
    "Here we load the synthetic measurements and also all of the inputs to the solver. We will use several of these inputs to perform 'inverse crimes' whereby we fix some aspects of the problem perfectly as in the forward simulation. When using real world measurements no such short cuts are necessary.\n",
    "\n",
    "* First, we have to look at the measurements and select a region of interest and define our `rte_grid`. \n",
    "* Then we have to model the sensor sub-pixel geometry.\n",
    "* We need to analyze whether the grid and sensor geometry are consistent. The SpaceCarver is useful for this. If not then we may need to change resolution of `rte_grid` to match the resolution of the measurements etc.\n",
    "* We need to decide how to represent the surface, which is currently fixed.\n",
    "* We need to decide how to represent the atmosphere.\n",
    "    * What scattering species are we modelling? What are their optical models? \n",
    "    * Which quantities will be unknowns and which are fixed?\n",
    "    * What will be the abstract state that we will reconstruct? For this we need to set the mapping between the abstract state and the RTE solver.\n",
    "* Now that we are organized we need to initialize our state vector of unknowns. The method for this initialization may itself be quite involved as starting nearer the answer is better. This typically goes hand in hand with the selection of any fixed variables.\n",
    "* Lastly we perform the optimization.\n",
    "\n",
    "In this tutorial we will reconstruct only the `extinction` and we will use forward quantities from the ground truth synthetic measurements for simplicity."
   ]
  },
  {
   "cell_type": "markdown",
   "metadata": {},
   "source": [
    "### Checks"
   ]
  },
  {
   "cell_type": "code",
   "execution_count": 2,
   "metadata": {},
   "outputs": [],
   "source": [
    "sensors, solvers, rte_grid = at3d.util.load_forward_model('./SimulateRadiancesSmallRico.nc')"
   ]
  },
  {
   "cell_type": "code",
   "execution_count": 3,
   "metadata": {},
   "outputs": [],
   "source": [
    "# Perform some cloud masking using a single fixed threshold based on the observation that \n",
    "# everywhere else will be very dark.\n",
    "sensor_list = []\n",
    "for sensor in sensors['MSPI']['sensor_list']:\n",
    "    copied = sensor.copy(deep=True)\n",
    "    weights = np.zeros(sensor.sizes['nrays'])\n",
    "    ray_mask =np.zeros(sensor.sizes['nrays'], dtype=int)\n",
    "    \n",
    "    ray_mask_pixel = np.zeros(sensor.npixels.size, dtype=int)\n",
    "    \n",
    "    # I have not optimized this threshold whatsoever.\n",
    "    # Feel free to experiment with the cloud mask threshold. \n",
    "    # You can compare the observations\n",
    "    # with a visualization of the initial_state to evaluate the mask.\n",
    "    # or look at at3d.space_carve.SpaceCarver.project\n",
    "    ray_mask_pixel[np.where(sensor.I.data > 0*2e-3)] = 1\n",
    "    copied['weights'] = ('nrays',sensor.I.data)\n",
    "    copied['cloud_mask'] = ('nrays', ray_mask_pixel[sensor.pixel_index.data])\n",
    "    sensor_list.append(copied)\n",
    "\n",
    "space_carver = at3d.space_carve.SpaceCarver(rte_grid, bcflag=3)\n",
    "carved_volume = space_carver.carve(sensor_list, agreement=(0.0, 1.0), linear_mode=False)\n",
    "\n",
    "# remove cloud mask values at outer boundaries to prevent interaction with open boundary conditions.\n",
    "carved_volume.mask[0] = carved_volume.mask[-1] =carved_volume.mask[:,0] =carved_volume.mask[:,-1] = 0.0\n",
    "        "
   ]
  },
  {
   "cell_type": "code",
   "execution_count": 4,
   "metadata": {},
   "outputs": [],
   "source": [
    "\n",
    "# make forward_sensors which will hold synthetic measurements from the evaluation of the forward model.\n",
    "forward_sensors = sensors.make_forward_sensors()\n",
    "\n",
    "# add an uncertainty model to the observations.\n",
    "uncertainty = at3d.uncertainties.NullUncertainty('L2',1e8)#at3d.uncertainties.TandemStereoCamera('L2', camera_to_camera_calibration_uncertainty=0.0,\n",
    "              #                                      absolute_calibration_uncertainty=0.0)#at3d.uncertainties.RadiometricUncertainty('L2',1e-5, 1e-3)\n",
    "sensors.add_uncertainty_model('MSPI', uncertainty)\n",
    "\n",
    "# prepare all of the static inputs to the solver just copy pasted from forward model\n",
    "surfaces = OrderedDict()\n",
    "numerical_parameters = OrderedDict()\n",
    "sources = OrderedDict()\n",
    "num_stokes = OrderedDict()\n",
    "background_optical_scatterers = OrderedDict()\n",
    "for key in forward_sensors.get_unique_solvers():\n",
    "    surfaces[key] = solvers[key].surface\n",
    "    numerical_params = solvers[key].numerical_params\n",
    "    #numerical_params['num_mu_bins'] = 2\n",
    "    #numerical_params['num_phi_bins'] = 4\n",
    "    numerical_parameters[key] = numerical_params\n",
    "    sources[key] = solvers[key].source\n",
    "    num_stokes[key] = solvers[key]._nstokes\n",
    "    background_optical_scatterers[key] = {'rayleigh': solvers[key].medium['rayleigh']}\n",
    "\n",
    "mie_mono_tables = OrderedDict()\n",
    "for wavelength in [.66]:\n",
    "    mie_mono_tables[wavelength] = at3d.mie.get_mono_table(\n",
    "        'Water',(wavelength,wavelength),\n",
    "        max_integration_radius=65.0,\n",
    "        minimum_effective_radius=0.1,\n",
    "        relative_dir='../mie_tables',\n",
    "        verbose=False\n",
    "    )\n",
    "\n",
    "optical_property_generator = at3d.medium.OpticalPropertyGenerator(\n",
    "    'cloud', \n",
    "    mie_mono_tables,\n",
    "    at3d.size_distribution.gamma,\n",
    "    density_normalization='geometric_extinction',\n",
    "    reff=np.linspace(.1,30.0,30),\n",
    "    veff=np.linspace(0.03,0.2,9),\n",
    ")"
   ]
  },
  {
   "cell_type": "code",
   "execution_count": 5,
   "metadata": {},
   "outputs": [],
   "source": [
    "# set the generator for the unknown scatterer using ground truth optical properties\n",
    "# and unknown extinction.\n",
    "# GridToOpticalProperties holds the fixed optical properties and forms a full set of optical properties\n",
    "# when it is called with extinction as the argument.\n",
    "\n",
    "optical_properties = solvers[0.66].medium['cloud'].copy(deep=True)\n",
    "optical_properties = optical_properties.drop_vars('extinction')\n",
    "\n",
    "true_geo_extinct = 3.0*solvers[0.66].medium['cloud'].density.data/(2.0*997.0* solvers[0.66].medium['cloud'].reff.data*1e-6)\n",
    "\n",
    "\n",
    "%matplotlib inline\n",
    "def plot(optimizer):\n",
    "    py.figure()\n",
    "    fig, axs = py.subplots(1, 2)\n",
    "    axs[0].plot(solvers_reconstruct[0.66].medium['cloud'].density.data.ravel(), \n",
    "            true_geo_extinct.ravel(),'x')\n",
    "    axs[0].plot([0,130],[0,130])\n",
    "    axs[1].plot(solvers_reconstruct[0.66].medium['cloud'].reff.data.ravel(), \n",
    "            solvers[0.66].medium['cloud'].reff.data.ravel(),'x')\n",
    "    axs[1].plot([0,30],[0,30])\n",
    "    axs[1].axvline(x = np.nanmean(solvers[0.66].medium['cloud'].reff.data.ravel()), color = 'r', linestyle='--')\n",
    "    py.show()\n",
    "    return {'None': None}\n",
    "callback = at3d.callback.CallbackFn(plot)\n"
   ]
  },
  {
   "cell_type": "code",
   "execution_count": 6,
   "metadata": {},
   "outputs": [],
   "source": [
    "solvers_reconstruct = at3d.containers.SolversDict()\n",
    "\n",
    "# We are using the ground_truth rte_grid.\n",
    "grid_to_optical_properties = at3d.medium.MicrophysicsGridToOpticalProperties(\n",
    "    rte_grid, optical_property_generator, optical_properties\n",
    ")\n",
    "def get_loss(reff_diff):\n",
    "    # UnknownScatterers is a container for all of the unknown variables.\n",
    "    # Each unknown_scatterer also records the transforms from the abstract state vector\n",
    "    # to the gridded data in physical coordinates.\n",
    "    unknown_scatterers = at3d.containers.UnknownScatterers(\n",
    "        at3d.medium.UnknownScatterer(grid_to_optical_properties,\n",
    "        density=(None, at3d.transforms.StateToGridMask(mask=carved_volume.mask.data)),\n",
    "        reff=(None, at3d.transforms.StateToGridProfile(mask=carved_volume.mask.data)))\n",
    "    )\n",
    "    # now we form state_gen which updates the solvers with an input_state.\n",
    "\n",
    "    state_gen = at3d.medium.StateGenerator(solvers_reconstruct,\n",
    "                                            unknown_scatterers, surfaces,\n",
    "                                            numerical_parameters, sources, background_optical_scatterers,\n",
    "                                            num_stokes)\n",
    "    # get bounds automatically.\n",
    "    min_bounds, max_bounds = state_gen.transform_bounds()\n",
    "    # transform initial physical state to abstract state. \n",
    "    initial_gridded_extinction = 3.0*solvers[0.66].medium['cloud'].density.data/(2.0*997.0* solvers[0.66].medium['cloud'].reff.data*1e-6)\n",
    "    initial_1d_extinction = state_gen._unknown_scatterers['cloud'].variables['density'].state_to_grid.inverse_transform(initial_gridded_extinction)\n",
    "    initial_gridded_reff = solvers[0.66].medium['cloud'].reff.data + reff_diff\n",
    "    initial_1d_reff = state_gen._unknown_scatterers['cloud'].variables['reff'].state_to_grid.inverse_transform(initial_gridded_reff)\n",
    "    x0 = np.concatenate((state_gen._unknown_scatterers['cloud'].variables['density'].coordinate_transform.inverse_transform(initial_1d_extinction),\n",
    "                state_gen._unknown_scatterers['cloud'].variables['reff'].coordinate_transform.inverse_transform(initial_1d_reff)))\n",
    "    objective_function = at3d.optimize.ObjectiveFunction.LevisApproxUncorrelatedL2(\n",
    "        sensors, solvers_reconstruct, forward_sensors, unknown_scatterers, state_gen,\n",
    "        state_gen.project_gradient_to_state,\n",
    "            parallel_solve_kwargs={'n_jobs': 4, 'verbose': True},\n",
    "        gradient_kwargs={'cost_function': 'L2', 'exact_single_scatter':True},\n",
    "        uncertainty_kwargs={'add_noise': False},\n",
    "        min_bounds=min_bounds, max_bounds=max_bounds)\n",
    "    # solvers_reconstruct[0.66].medium['cloud'].reff.data = solvers[0.66].medium['cloud'].reff.data + reff_diff\n",
    "    return objective_function(x0)[0]\n",
    "losses = []\n",
    "for i in range(-10, 10):\n",
    "    losses.append(get_loss(i))\n",
    "    plot(None)\n",
    "    print(losses[i+10])\n",
    "py.plot(range(-10, 10),losses)\n"
   ]
  },
  {
   "cell_type": "code",
   "execution_count": null,
   "metadata": {},
   "outputs": [
    {
     "data": {
      "text/plain": [
       "Text(0.5, 1.0, 'Loss vs Reff Using (Almost) Ground Truth Extinction')"
      ]
     },
     "execution_count": 9,
     "metadata": {},
     "output_type": "execute_result"
    },
    {
     "data": {
      "image/png": "[encoded data removed]",
      "text/plain": [
       "<Figure size 640x480 with 1 Axes>"
      ]
     },
     "metadata": {},
     "output_type": "display_data"
    }
   ],
   "source": [
    "py.plot(range(-3, 10), np.array(losses)[7:])\n",
    "py.xlabel(\"Uniform Reff Difference From Ground Truth (um)\")\n",
    "py.ylabel(\"Loss\")\n",
    "py.title(\"Loss vs Reff Using (Almost) Ground Truth Extinction\")"
   ]
  }
 ],
 "metadata": {
  "kernelspec": {
   "display_name": "Python 3 (ipykernel)",
   "language": "python",
   "name": "python3"
  },
  "language_info": {
   "codemirror_mode": {
    "name": "ipython",
    "version": 3
   },
   "file_extension": ".py",
   "mimetype": "text/x-python",
   "name": "python",
   "nbconvert_exporter": "python",
   "pygments_lexer": "ipython3",
   "version": "3.10.4"
  }
 },
 "nbformat": 4,
 "nbformat_minor": 4
}
